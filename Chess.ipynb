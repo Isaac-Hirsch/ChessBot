{
  "nbformat": 4,
  "nbformat_minor": 0,
  "metadata": {
    "colab": {
      "provenance": [],
      "authorship_tag": "ABX9TyNrbZfgAow7iVN3CEg7ayDy",
      "include_colab_link": true
    },
    "kernelspec": {
      "name": "python3",
      "display_name": "Python 3"
    },
    "language_info": {
      "name": "python"
    }
  },
  "cells": [
    {
      "cell_type": "markdown",
      "metadata": {
        "id": "view-in-github",
        "colab_type": "text"
      },
      "source": [
        "<a href=\"https://colab.research.google.com/github/Isaac-Hirsch/ChessBot/blob/main/Chess.ipynb\" target=\"_parent\"><img src=\"https://colab.research.google.com/assets/colab-badge.svg\" alt=\"Open In Colab\"/></a>"
      ]
    },
    {
      "cell_type": "code",
      "execution_count": 107,
      "metadata": {
        "colab": {
          "base_uri": "https://localhost:8080/"
        },
        "id": "0dsa5WiQrPVZ",
        "outputId": "bf5c1359-e77a-47a5-8ea6-9da262fe890d"
      },
      "outputs": [
        {
          "output_type": "stream",
          "name": "stdout",
          "text": [
            "Requirement already satisfied: chess in /usr/local/lib/python3.10/dist-packages (1.10.0)\n"
          ]
        }
      ],
      "source": [
        "!pip install chess"
      ]
    },
    {
      "cell_type": "code",
      "source": [
        "import chess\n",
        "import numpy as np\n",
        "import pandas as pd\n",
        "from matplotlib import pyplot as plt\n",
        "import tensorflow as tf\n",
        "from tensorflow import keras\n",
        "from tensorflow.keras import layers\n",
        "from tensorflow.keras import activations\n",
        "import torch\n",
        "from chess import svg\n",
        "import IPython"
      ],
      "metadata": {
        "id": "6mgnxuegraqX"
      },
      "execution_count": 108,
      "outputs": []
    },
    {
      "cell_type": "code",
      "source": [
        "board=chess.Board()"
      ],
      "metadata": {
        "id": "vsrYf0K_sXEC"
      },
      "execution_count": 109,
      "outputs": []
    },
    {
      "cell_type": "code",
      "source": [
        "display(IPython.display.HTML(svg.board(board=board)))"
      ],
      "metadata": {
        "id": "lcASr1DusHZF"
      },
      "execution_count": null,
      "outputs": []
    },
    {
      "cell_type": "code",
      "source": [
        "print(chess.square_name(52))"
      ],
      "metadata": {
        "colab": {
          "base_uri": "https://localhost:8080/"
        },
        "id": "OBD9SPSztDaq",
        "outputId": "4b8aa0c9-bae7-4261-8cdc-f9ebcdc1377f"
      },
      "execution_count": 111,
      "outputs": [
        {
          "output_type": "stream",
          "name": "stdout",
          "text": [
            "e7\n"
          ]
        }
      ]
    },
    {
      "cell_type": "markdown",
      "source": [
        "# Test how to create boards and play moves on them. Also test how fast it is."
      ],
      "metadata": {
        "id": "BORuzq9DEdIr"
      }
    },
    {
      "cell_type": "code",
      "source": [
        "board=chess.Board()"
      ],
      "metadata": {
        "id": "P5L-K2z6tHR-"
      },
      "execution_count": 112,
      "outputs": []
    },
    {
      "cell_type": "code",
      "source": [
        "i=0\n",
        "for move in board.legal_moves:\n",
        "  i+=1\n",
        "\n",
        "print(i)"
      ],
      "metadata": {
        "colab": {
          "base_uri": "https://localhost:8080/"
        },
        "id": "j-QoutH-Eqxm",
        "outputId": "2363cc6a-2df6-40ba-9051-3a67476e18ab"
      },
      "execution_count": 113,
      "outputs": [
        {
          "output_type": "stream",
          "name": "stdout",
          "text": [
            "20\n"
          ]
        }
      ]
    },
    {
      "cell_type": "code",
      "source": [
        "board.reset()\n",
        "print(board.move_stack)\n",
        "board.push(chess.Move.from_uci('e2e4'))\n",
        "print(board.move_stack)\n",
        "board.push(chess.Move.from_uci('e7e5'))\n",
        "print(board.move_stack)\n",
        "board.push(chess.Move.from_uci('g1f3'))\n",
        "print(board.move_stack)\n",
        "board.push(chess.Move.from_uci('b8c6'))\n",
        "print(board.move_stack)\n",
        "i=0\n",
        "for move in board.legal_moves:\n",
        "  i+=1\n",
        "\n",
        "print(len(list(board.legal_moves)))\n",
        "#display(IPython.display.HTML(svg.board(board=board)))"
      ],
      "metadata": {
        "colab": {
          "base_uri": "https://localhost:8080/"
        },
        "id": "2W2mLgs-FKFU",
        "outputId": "e532359b-bf42-4964-cf61-ba77acf2cb50"
      },
      "execution_count": 114,
      "outputs": [
        {
          "output_type": "stream",
          "name": "stdout",
          "text": [
            "[]\n",
            "[Move.from_uci('e2e4')]\n",
            "[Move.from_uci('e2e4'), Move.from_uci('e7e5')]\n",
            "[Move.from_uci('e2e4'), Move.from_uci('e7e5'), Move.from_uci('g1f3')]\n",
            "[Move.from_uci('e2e4'), Move.from_uci('e7e5'), Move.from_uci('g1f3'), Move.from_uci('b8c6')]\n",
            "27\n"
          ]
        }
      ]
    },
    {
      "cell_type": "code",
      "source": [
        "def depth_search(board, depth, num_pos):\n",
        "  if depth==0:\n",
        "    return num_pos+len(list(board.legal_moves))\n",
        "  else:\n",
        "    for move in board.legal_moves:\n",
        "      board.push(move)\n",
        "      num_pos=depth_search(board, depth-1, num_pos)\n",
        "      board.pop()\n",
        "    return num_pos"
      ],
      "metadata": {
        "id": "MOQcD19bFclP"
      },
      "execution_count": 115,
      "outputs": []
    },
    {
      "cell_type": "code",
      "source": [
        "board.reset()\n",
        "print(depth_search(board, 4, 0))"
      ],
      "metadata": {
        "colab": {
          "base_uri": "https://localhost:8080/"
        },
        "id": "oMSMK_jNIY6C",
        "outputId": "018493b7-40ee-4780-ece7-6b38b0aca30e"
      },
      "execution_count": 116,
      "outputs": [
        {
          "output_type": "stream",
          "name": "stdout",
          "text": [
            "4865609\n"
          ]
        }
      ]
    },
    {
      "cell_type": "code",
      "source": [
        "#Try to remove the minmax variable\n",
        "def alpha_beta(board, evaluator, depth, max, alpha=-np.inf, beta=np.inf):\n",
        "  if depth==0:\n",
        "    return evaluator(board)\n",
        "  elif max:\n",
        "    for move in board.legal_moves:\n",
        "      board.push(move)\n",
        "      eva=alpha_beta(board, evaluator, depth-1, False, alpha, beta)\n",
        "      maxEva=max(maxEva, eva)\n",
        "      board.pop()\n",
        "      alpha=max(alpha, eva)\n",
        "      if beta<=alpha:\n",
        "        break\n",
        "    return maxEva\n",
        "  else:\n",
        "    for move in board.legal_moves:\n",
        "      board.push(move)\n",
        "      eva=alpha_beta(board, evaluator, depth-1, True, alpha, beta)\n",
        "      minEva=min(minEva, eva)\n",
        "      board.pop()\n",
        "      alpha=min(beta, eva)\n",
        "      if beta<=alpha:\n",
        "        break\n",
        "    return minEva"
      ],
      "metadata": {
        "id": "cBij5aLgIdhq"
      },
      "execution_count": 117,
      "outputs": []
    },
    {
      "cell_type": "code",
      "source": [
        "def evaluate_position(board):\n",
        "    # Check for endgame scenarios\n",
        "    if board.is_checkmate():\n",
        "        if board.turn == chess.WHITE:\n",
        "            return -np.inf  # Black wins\n",
        "        else:\n",
        "            return np.inf  # White wins\n",
        "    elif board.is_stalemate() or board.is_insufficient_material() or board.can_claim_draw():\n",
        "        return 0  # Draw\n",
        "\n",
        "    # Material values\n",
        "    piece_values = {chess.PAWN: 1, chess.KNIGHT: 3, chess.BISHOP: 3, chess.ROOK: 5, chess.QUEEN: 9}\n",
        "\n",
        "    # Calculate material balance\n",
        "    material_balance = 0\n",
        "    for piece_type in piece_values:\n",
        "        material_balance += len(board.pieces(piece_type, chess.WHITE)) * piece_values[piece_type]\n",
        "        material_balance -= len(board.pieces(piece_type, chess.BLACK)) * piece_values[piece_type]\n",
        "\n",
        "    # Basic positional factors\n",
        "    center_squares = [chess.D4, chess.E4, chess.D5, chess.E5]\n",
        "    for square in center_squares:\n",
        "        if board.piece_at(square):\n",
        "            if board.piece_at(square).color == chess.WHITE:\n",
        "                material_balance += 0.1  # Slight advantage for controlling a center square\n",
        "            else:\n",
        "                material_balance -= 0.1\n",
        "\n",
        "    # Piece activity\n",
        "    white_mobility = len(list(board.legal_moves))\n",
        "    board.push(chess.Move.null())  # Switch turn to get mobility for the other side\n",
        "    black_mobility = len(list(board.legal_moves))\n",
        "    board.pop()  # Revert the null move\n",
        "    mobility_balance = 0.01 * (white_mobility - black_mobility)\n",
        "\n",
        "    # Check for \"king and queen vs king\" or \"king and rook vs king\" scenarios\n",
        "    if len(board.piece_map()) == 3:\n",
        "        if board.has_queen() or board.has_rook():\n",
        "            # Reward for minimizing the opposing king's mobility\n",
        "            opposing_color = not board.turn\n",
        "            king_mobility = evaluate_king_mobility(board, opposing_color)\n",
        "            mobility_score = -0.5 * king_mobility  # Negative score as we want to minimize this\n",
        "            return material_balance + mobility_balance + 100 + mobility_score  # Add base score for having a queen/rook advantage\n",
        "\n",
        "    return material_balance + mobility_balance\n",
        "\n",
        "def evaluate_king_mobility(board, color):\n",
        "    # Temporarily switch turns to calculate the opponent's king's legal moves\n",
        "    board.push(chess.Move.null())\n",
        "    king_moves = list(board.generate_legal_moves())\n",
        "    board.pop()\n",
        "\n",
        "    # Filter moves for the king\n",
        "    king_square = board.king(color)\n",
        "    king_moves = [move for move in king_moves if move.from_square == king_square]\n",
        "\n",
        "    return len(king_moves)\n",
        "\n",
        "# Test the function with a sample position\n",
        "board = chess.Board()\n",
        "board.push(chess.Move.from_uci(\"e2e4\"))\n",
        "board.push(chess.Move.from_uci(\"e7e5\"))\n",
        "board.push(chess.Move.from_uci(\"g1f3\"))\n",
        "board.push(chess.Move.from_uci(\"b8c6\"))\n",
        "board.push(chess.Move.from_uci(\"f1c4\"))\n",
        "board.push(chess.Move.from_uci(\"f8c5\"))\n",
        "evaluation = evaluate_position(board)\n",
        "print(\"Evaluation of the position (positive is good for White, negative for Black, infinity for a win, zero for a draw):\", evaluation)"
      ],
      "metadata": {
        "colab": {
          "base_uri": "https://localhost:8080/"
        },
        "id": "dAY2SWbWOdas",
        "outputId": "6f5353bb-24aa-41da-c4f0-8138055f1fde"
      },
      "execution_count": 118,
      "outputs": [
        {
          "output_type": "stream",
          "name": "stdout",
          "text": [
            "Evaluation of the position (positive is good for White, negative for Black, infinity for a win, zero for a draw): -0.03\n"
          ]
        }
      ]
    },
    {
      "cell_type": "markdown",
      "source": [
        "# Alpha Zero"
      ],
      "metadata": {
        "id": "sYe7JZEQfUnf"
      }
    },
    {
      "cell_type": "code",
      "source": [
        "#This function will take in an injectivie list and outputs a dictionary where the keys are is the data stored in the list and the indexs are the values\n",
        "def listInverter(l: list):\n",
        "    return {value: index for index, value in enumerate(l)}\n",
        "\n",
        "#Function to convert a row and col into a single index\n",
        "def squareIndexing(row: int, col: int):\n",
        "    assert 0<=row<=7\n",
        "    assert 0<=col<=7\n",
        "    return 8*row+col\n",
        "\n",
        "#Function to convert a single index into a row and col\n",
        "def squareDeIndexing(index: int):\n",
        "    assert 0<=index<=63\n",
        "    return index//8, index%8\n",
        "\n",
        "#dictionary to get the standard value of a piece\n",
        "pieceValueDict={1:1,2:3,3:3,4:5,5:9,6:0}"
      ],
      "metadata": {
        "id": "c77UOBsC_8Wg"
      },
      "execution_count": 221,
      "outputs": []
    },
    {
      "cell_type": "code",
      "source": [
        "\"\"\"\n",
        "These functions will be used in getGenMoveDict to determine every possible legal generalized move. These\n",
        "functions will take in an input row and column and output all the rows and columns that the piece can move to.\n",
        "These functions are seperated so they can be unit tested.\n",
        "\"\"\"\n",
        "\n",
        "def rookMoves(row: int, col: int):\n",
        "    assert 0<=row<=7\n",
        "    assert 0<=col<=7\n",
        "    moves=[]\n",
        "    for rookRow in range(8):\n",
        "        if rookRow != row:\n",
        "            moves.append(squareIndexing(rookRow,col))\n",
        "    for rookCol in range(8):\n",
        "        if rookCol != col:\n",
        "            moves.append(squareIndexing(row, rookCol))\n",
        "    return moves\n",
        "\n",
        "def knightMoves(row: int, col: int):\n",
        "    assert 0<=row<=7\n",
        "    assert 0<=col<=7\n",
        "    moves=[]\n",
        "    if row+2<8:\n",
        "        if col+1<8:\n",
        "            moves.append(squareIndexing(row+2,col+1))\n",
        "        if col-1>=0:\n",
        "            moves.append(squareIndexing(row+2,col-1))\n",
        "    if row-2>=0:\n",
        "        if col+1<8:\n",
        "            moves.append(squareIndexing(row-2,col+1))\n",
        "        if col-1>=0:\n",
        "            moves.append(squareIndexing(row-2,col-1))\n",
        "    if col+2<8:\n",
        "        if row+1<8:\n",
        "            moves.append(squareIndexing(row+1,col+2))\n",
        "        if row-1>=0:\n",
        "            moves.append(squareIndexing(row-1,col+2))\n",
        "    if col-2>=0:\n",
        "        if row+1<8:\n",
        "            moves.append(squareIndexing(row+1,col-2))\n",
        "        if row-1>=0:\n",
        "            moves.append(squareIndexing(row-1,col-2))\n",
        "    return moves\n",
        "\n",
        "def bishopMoves(row: int, col: int):\n",
        "    assert 0<=row<=7\n",
        "    assert 0<=col<=7\n",
        "    moves=[]\n",
        "    for mainDiag in range(8-abs(row+col-7)):\n",
        "        if min(7,col+row) - mainDiag != row:\n",
        "            moves.append(squareIndexing(min(7,col+row)-mainDiag, max(0,row+col-7)+mainDiag))\n",
        "    for offDiag in range(8-abs(row-col)):\n",
        "        if max(0,row-col)+offDiag != row:\n",
        "            moves.append(squareIndexing(max(0,row-col)+offDiag ,max(0,col-row)+offDiag))\n",
        "    return moves"
      ],
      "metadata": {
        "id": "X-7zabgaJgPq"
      },
      "execution_count": 120,
      "outputs": []
    },
    {
      "cell_type": "code",
      "source": [
        "#Unit tests for each pieceMoves function\n",
        "board=chess.Board()\n",
        "\n",
        "for row in range(8):\n",
        "    for col in range(8):\n",
        "        #Testing rookMoves\n",
        "        board.clear()\n",
        "        board.set_piece_at(square=squareIndexing(row, col), piece=chess.Piece(chess.ROOK, chess.WHITE))\n",
        "        assert [legalmove.to_square for legalmove in board.legal_moves].sort() == rookMoves(row, col).sort(), f\"rookMove error at: row: {row}, col: {col}\"\n",
        "\n",
        "        #Testing knightMoves\n",
        "        board.clear()\n",
        "        board.set_piece_at(square=squareIndexing(row, col), piece=chess.Piece(chess.KNIGHT, chess.WHITE))\n",
        "        assert [legalmove.to_square for legalmove in board.legal_moves].sort() == knightMoves(row, col).sort(), f\"knightMove error at: row: {row}, col: {col}\"\n",
        "\n",
        "        #Testing bishopMoves\n",
        "        board.clear()\n",
        "        board.set_piece_at(square=squareIndexing(row, col), piece=chess.Piece(chess.BISHOP, chess.WHITE))\n",
        "        assert [legalmove.to_square for legalmove in board.legal_moves].sort() == bishopMoves(row, col).sort(), f\"bishopMove error at: row: {row}, col: {col}\"\n",
        "board.reset()"
      ],
      "metadata": {
        "id": "O50O5na8H-NQ"
      },
      "execution_count": 121,
      "outputs": []
    },
    {
      "cell_type": "code",
      "source": [
        "\"\"\"\n",
        "This function will be used to determine every possible legal generalized move and be used as a helper function to interacting with\n",
        "dualHeadResNet's policy head. Each generalized move will be a number of the index of the square the piece is moving from times 64\n",
        "plus the index of the square the piece is moving to. The list will shorten this to only moves that could be legal. Castling will be represented\n",
        "the king moving 2 squares in one direction. Therefore all legal moves will either be moves accessable by a rook, bishop, or knight.\n",
        "This function is unit tested.\n",
        "\"\"\"\n",
        "def getGenMoveDict()->tuple[list,dict]:\n",
        "    moveList=[]\n",
        "    #Looping over each square.\n",
        "    for row in range(8):\n",
        "        for col in range(8):\n",
        "            genFrom=64*(row*8+col)\n",
        "\n",
        "            #Rook moves:\n",
        "            moveList+=[genFrom + move for move in rookMoves(row,col)]\n",
        "\n",
        "            #Knight moves:\n",
        "            moveList+=[genFrom + move for move in knightMoves(row,col)]\n",
        "\n",
        "            #Bishop moves:\n",
        "            moveList+=[genFrom + move for move in bishopMoves(row,col)]\n",
        "\n",
        "    return moveList, listInverter(moveList)"
      ],
      "metadata": {
        "id": "SNP8aGj9Jgr8"
      },
      "execution_count": 122,
      "outputs": []
    },
    {
      "cell_type": "code",
      "source": [
        "moveList, moveDict = getGenMoveDict()\n",
        "print(len(moveList))"
      ],
      "metadata": {
        "colab": {
          "base_uri": "https://localhost:8080/"
        },
        "id": "LEe-R-rmFWoE",
        "outputId": "812fa5ae-9b25-4aa5-d6cf-73482827b683"
      },
      "execution_count": 123,
      "outputs": [
        {
          "output_type": "stream",
          "name": "stdout",
          "text": [
            "1792\n"
          ]
        }
      ]
    },
    {
      "cell_type": "code",
      "source": [
        "print(type(squareDeIndexing(40)))"
      ],
      "metadata": {
        "colab": {
          "base_uri": "https://localhost:8080/"
        },
        "id": "Ke8auAJRjQ8Z",
        "outputId": "d056c70e-e53e-4057-e567-c8ea5bfa9ab5"
      },
      "execution_count": 195,
      "outputs": [
        {
          "output_type": "stream",
          "name": "stdout",
          "text": [
            "<class 'tuple'>\n"
          ]
        }
      ]
    },
    {
      "cell_type": "code",
      "source": [
        "from typing_extensions import NewType\n",
        "\"\"\"\n",
        "This function will turn an input chess.board object into a numpy array that matches the input format listed\n",
        "by the dualHeadedResNet function. Specifically the the 8x8 is the chess board with the first 12 boards of the third dimension\n",
        "being the pieces in order from least to most valuable for white then black, the next 2 are for short castling, the next 2 are for long castling,\n",
        "the next is for en peasent, the next is for net piece count, the next is for checking pieces, and the final is for whose turn it is.\n",
        "\"\"\"\n",
        "def boardToInput(board: chess.Board)->np.ndarray:\n",
        "    output=np.zeros((8,8,20))\n",
        "\n",
        "    #Filling the pieces and collecting net pieces value\n",
        "    netPieces=0\n",
        "\n",
        "    for color in [chess.WHITE, chess.BLACK]:\n",
        "        for piece in [chess.PAWN, chess.KNIGHT, chess.BISHOP, chess.ROOK, chess.QUEEN, chess.KING]:\n",
        "            netPieces+=(-1)**(not color)*pieceValueDict[piece]*len(board.pieces(piece,color))\n",
        "            for square in board.pieces(piece,color):\n",
        "                output[squareDeIndexing(square)+((piece-1)+(not color)*6,)]=1\n",
        "\n",
        "    #Filling castling\n",
        "    for color in [chess.WHITE, chess.BLACK]:\n",
        "        if board.has_kingside_castling_rights(color):\n",
        "            output[:,:,12+(not color)]=(-1)**(not color)\n",
        "        if board.has_queenside_castling_rights(color):\n",
        "            output[:,:,14+(not color)]=(-1)**(not color)\n",
        "\n",
        "    #Filling en peasent\n",
        "    if not board.ep_square is None:\n",
        "        output[squareDeIndexing(board.ep_square)+(16,)]=int(not board.turn)\n",
        "\n",
        "    #Filling net piece count\n",
        "    output[:,:,17]=netPieces\n",
        "\n",
        "    #Filling in checkers\n",
        "    if board.is_check():\n",
        "        for square in board.checkers():\n",
        "            output[squareDeIndexing(square)+(18,)]=(-1)**(not board.turn)\n",
        "\n",
        "    #Filling in whose turn it is\n",
        "    output[:,:,19]=(-1)**(not board.turn)\n",
        "\n",
        "\n",
        "    return output"
      ],
      "metadata": {
        "id": "URZfom-HXB5s"
      },
      "execution_count": 227,
      "outputs": []
    },
    {
      "cell_type": "code",
      "source": [
        "#Layer that maks the output of the policy based on the legal moves in the position.\n",
        "class legalMovesMask(layers.Layer):\n",
        "    def __init__(self, moveList, moveDict, **kwards):\n",
        "        super().__init__()\n",
        "        self.moveList=moveList\n",
        "        self.moveDict=moveDict\n",
        "\n",
        "    def call(self, inputs):\n",
        "        pass"
      ],
      "metadata": {
        "id": "l7kgvVQnVG8b"
      },
      "execution_count": 229,
      "outputs": []
    },
    {
      "cell_type": "code",
      "source": [
        "\"\"\"\n",
        "This function is the main brain of the chess model. It uses a resnet to build up information about the board before it is\n",
        "split into two heads. One of the heads decided the next move for a MC Tree Search, the other head is a static board evaluator.\n",
        "This program follows the style of alpha zero.\n",
        "\"\"\"\n",
        "def dualHeadedResNet(blocks: int=5, activation: str=\"relu\", factor: int=2, initialFilters: int=64, denseLatent: int=2048):\n",
        "    # The input has a dimensionality of (8,8,20). The first 12 layers are the pieces in order from least to most valuable for white then black\n",
        "    # The next 2 dimensions are whites ability to short castle and long castle, followed by blacks ability to short castle and long castle\n",
        "    # The castling inputs are filled boards with either 1 the color can castle in that direction or -1 if they can't\n",
        "    # The next dimension is en peasent which is a board filled with 0's in all squares except for the capturing square of en peasent (3rd or 6th rank)\n",
        "    # These capturing squares are marked by either a 1 if white can capture en peasent or -1 if black can capture en peasent\n",
        "    # The next dimension is the net piece count which is a filled board of the net piece count with whites material being positive and black's negative\n",
        "    # The next dimension is for checking pieces with a filled board of 0's except for a 1 at every piece checking black and a -1 for pieces checking white\n",
        "    # The final dimension is whos turn it is with a full board of 1's if its white's turn and a full board of 0's if its black turn.\n",
        "\n",
        "    # This might need to be extended with something to deal with repetition.\n",
        "    inputs = keras.Input(shape=(8,8,20))\n",
        "\n",
        "    features = layers.Conv2D(filters=initialFilters, kernel_size=(3,3), activation=activation, padding='same')(inputs)\n",
        "    features = layers.BatchNormalization()(features)\n",
        "    res=features\n",
        "    for block in range(blocks):\n",
        "        features = layers.Conv2D(filters=initialFilters, kernel_size=(3,3), activation=activation, padding='same')(features)\n",
        "        features = layers.BatchNormalization()(features)\n",
        "        features = layers.Conv2D(filters=initialFilters, kernel_size=(3,3), activation=activation, padding='same')(features)\n",
        "        features = layers.BatchNormalization()(features)\n",
        "        features = layers.add([features, res])\n",
        "        res=features\n",
        "        features = layers.Conv2D(filters=initialFilters, kernel_size=(3,3), activation=activation, padding='same')(features)\n",
        "        features = layers.BatchNormalization()(features)\n",
        "        features = layers.Conv2D(filters=initialFilters, kernel_size=(3,3), activation=activation, padding='same')(features)\n",
        "        features = layers.BatchNormalization()(features)\n",
        "        features = layers.add([features, res])\n",
        "        if block != blocks-1:\n",
        "          initialFilters*=factor #increasing the number of filters each block by the factor paramater\n",
        "          res= layers.Conv2D(filters=initialFilters, kernel_size=(1,1))(features) #Upsampling the residual connection so it can be added to the next layer\n",
        "          res= layers.BatchNormalization()(res)\n",
        "    features=layers.Flatten()(features)\n",
        "\n",
        "    #Head that determines the next move for the Monte Carlo tree search\n",
        "    policyHead = layers.Dense(denseLatent, activation=activation)(features)\n",
        "    policyHead = layers.Dense(denseLatent, activation=activation)(policyHead)\n",
        "    policyHead = layers.Dense(len(getGenMoveDict()[0]), activation=None)(policyHead) #Generalized to every possible move. Illegal moves will be masked.\n",
        "\n",
        "    #Head that determines the value of the board\n",
        "    valueHead = layers.Dense(denseLatent, activation=activation)(features)\n",
        "    valueHead = layers.Dense(denseLatent, activation=activation)(valueHead)\n",
        "    valueHead = layers.Dense(1, activation=\"tanh\")(valueHead)\n",
        "\n",
        "    return keras.Model(inputs=inputs, outputs=[policyHead, valueHead])\n",
        "\n"
      ],
      "metadata": {
        "id": "MK63NBcOLn6-"
      },
      "execution_count": 124,
      "outputs": []
    },
    {
      "cell_type": "code",
      "source": [
        "def getLegelMovesMask(board):\n",
        "    output=np.zeros(len(moveList), dtype=bool)\n",
        "    for move in board.legal_moves:\n",
        "        output[moveDict[64*move.from_square+move.to_square]]=1\n",
        "    return output"
      ],
      "metadata": {
        "id": "4Z8qFlQfp7lp"
      },
      "execution_count": 236,
      "outputs": []
    },
    {
      "cell_type": "code",
      "source": [
        "model=dualHeadedResNet(blocks=3, activation=\"relu\", factor=2, initialFilters=64, denseLatent=2048)\n",
        "model.summary()"
      ],
      "metadata": {
        "colab": {
          "base_uri": "https://localhost:8080/"
        },
        "id": "rm2JC8KdwI5t",
        "outputId": "5bd7a889-7028-450d-9e7e-0755a4dfcb93"
      },
      "execution_count": 125,
      "outputs": [
        {
          "output_type": "stream",
          "name": "stdout",
          "text": [
            "Model: \"model_6\"\n",
            "__________________________________________________________________________________________________\n",
            " Layer (type)                Output Shape                 Param #   Connected to                  \n",
            "==================================================================================================\n",
            " input_7 (InputLayer)        [(None, 8, 8, 20)]           0         []                            \n",
            "                                                                                                  \n",
            " conv2d_90 (Conv2D)          (None, 8, 8, 64)             11584     ['input_7[0][0]']             \n",
            "                                                                                                  \n",
            " batch_normalization_90 (Ba  (None, 8, 8, 64)             256       ['conv2d_90[0][0]']           \n",
            " tchNormalization)                                                                                \n",
            "                                                                                                  \n",
            " conv2d_91 (Conv2D)          (None, 8, 8, 64)             36928     ['batch_normalization_90[0][0]\n",
            "                                                                    ']                            \n",
            "                                                                                                  \n",
            " batch_normalization_91 (Ba  (None, 8, 8, 64)             256       ['conv2d_91[0][0]']           \n",
            " tchNormalization)                                                                                \n",
            "                                                                                                  \n",
            " conv2d_92 (Conv2D)          (None, 8, 8, 64)             36928     ['batch_normalization_91[0][0]\n",
            "                                                                    ']                            \n",
            "                                                                                                  \n",
            " batch_normalization_92 (Ba  (None, 8, 8, 64)             256       ['conv2d_92[0][0]']           \n",
            " tchNormalization)                                                                                \n",
            "                                                                                                  \n",
            " add_36 (Add)                (None, 8, 8, 64)             0         ['batch_normalization_92[0][0]\n",
            "                                                                    ',                            \n",
            "                                                                     'batch_normalization_90[0][0]\n",
            "                                                                    ']                            \n",
            "                                                                                                  \n",
            " conv2d_93 (Conv2D)          (None, 8, 8, 64)             36928     ['add_36[0][0]']              \n",
            "                                                                                                  \n",
            " batch_normalization_93 (Ba  (None, 8, 8, 64)             256       ['conv2d_93[0][0]']           \n",
            " tchNormalization)                                                                                \n",
            "                                                                                                  \n",
            " conv2d_94 (Conv2D)          (None, 8, 8, 64)             36928     ['batch_normalization_93[0][0]\n",
            "                                                                    ']                            \n",
            "                                                                                                  \n",
            " batch_normalization_94 (Ba  (None, 8, 8, 64)             256       ['conv2d_94[0][0]']           \n",
            " tchNormalization)                                                                                \n",
            "                                                                                                  \n",
            " add_37 (Add)                (None, 8, 8, 64)             0         ['batch_normalization_94[0][0]\n",
            "                                                                    ',                            \n",
            "                                                                     'add_36[0][0]']              \n",
            "                                                                                                  \n",
            " conv2d_96 (Conv2D)          (None, 8, 8, 128)            73856     ['add_37[0][0]']              \n",
            "                                                                                                  \n",
            " batch_normalization_96 (Ba  (None, 8, 8, 128)            512       ['conv2d_96[0][0]']           \n",
            " tchNormalization)                                                                                \n",
            "                                                                                                  \n",
            " conv2d_97 (Conv2D)          (None, 8, 8, 128)            147584    ['batch_normalization_96[0][0]\n",
            "                                                                    ']                            \n",
            "                                                                                                  \n",
            " conv2d_95 (Conv2D)          (None, 8, 8, 128)            8320      ['add_37[0][0]']              \n",
            "                                                                                                  \n",
            " batch_normalization_97 (Ba  (None, 8, 8, 128)            512       ['conv2d_97[0][0]']           \n",
            " tchNormalization)                                                                                \n",
            "                                                                                                  \n",
            " batch_normalization_95 (Ba  (None, 8, 8, 128)            512       ['conv2d_95[0][0]']           \n",
            " tchNormalization)                                                                                \n",
            "                                                                                                  \n",
            " add_38 (Add)                (None, 8, 8, 128)            0         ['batch_normalization_97[0][0]\n",
            "                                                                    ',                            \n",
            "                                                                     'batch_normalization_95[0][0]\n",
            "                                                                    ']                            \n",
            "                                                                                                  \n",
            " conv2d_98 (Conv2D)          (None, 8, 8, 128)            147584    ['add_38[0][0]']              \n",
            "                                                                                                  \n",
            " batch_normalization_98 (Ba  (None, 8, 8, 128)            512       ['conv2d_98[0][0]']           \n",
            " tchNormalization)                                                                                \n",
            "                                                                                                  \n",
            " conv2d_99 (Conv2D)          (None, 8, 8, 128)            147584    ['batch_normalization_98[0][0]\n",
            "                                                                    ']                            \n",
            "                                                                                                  \n",
            " batch_normalization_99 (Ba  (None, 8, 8, 128)            512       ['conv2d_99[0][0]']           \n",
            " tchNormalization)                                                                                \n",
            "                                                                                                  \n",
            " add_39 (Add)                (None, 8, 8, 128)            0         ['batch_normalization_99[0][0]\n",
            "                                                                    ',                            \n",
            "                                                                     'add_38[0][0]']              \n",
            "                                                                                                  \n",
            " conv2d_101 (Conv2D)         (None, 8, 8, 256)            295168    ['add_39[0][0]']              \n",
            "                                                                                                  \n",
            " batch_normalization_101 (B  (None, 8, 8, 256)            1024      ['conv2d_101[0][0]']          \n",
            " atchNormalization)                                                                               \n",
            "                                                                                                  \n",
            " conv2d_102 (Conv2D)         (None, 8, 8, 256)            590080    ['batch_normalization_101[0][0\n",
            "                                                                    ]']                           \n",
            "                                                                                                  \n",
            " conv2d_100 (Conv2D)         (None, 8, 8, 256)            33024     ['add_39[0][0]']              \n",
            "                                                                                                  \n",
            " batch_normalization_102 (B  (None, 8, 8, 256)            1024      ['conv2d_102[0][0]']          \n",
            " atchNormalization)                                                                               \n",
            "                                                                                                  \n",
            " batch_normalization_100 (B  (None, 8, 8, 256)            1024      ['conv2d_100[0][0]']          \n",
            " atchNormalization)                                                                               \n",
            "                                                                                                  \n",
            " add_40 (Add)                (None, 8, 8, 256)            0         ['batch_normalization_102[0][0\n",
            "                                                                    ]',                           \n",
            "                                                                     'batch_normalization_100[0][0\n",
            "                                                                    ]']                           \n",
            "                                                                                                  \n",
            " conv2d_103 (Conv2D)         (None, 8, 8, 256)            590080    ['add_40[0][0]']              \n",
            "                                                                                                  \n",
            " batch_normalization_103 (B  (None, 8, 8, 256)            1024      ['conv2d_103[0][0]']          \n",
            " atchNormalization)                                                                               \n",
            "                                                                                                  \n",
            " conv2d_104 (Conv2D)         (None, 8, 8, 256)            590080    ['batch_normalization_103[0][0\n",
            "                                                                    ]']                           \n",
            "                                                                                                  \n",
            " batch_normalization_104 (B  (None, 8, 8, 256)            1024      ['conv2d_104[0][0]']          \n",
            " atchNormalization)                                                                               \n",
            "                                                                                                  \n",
            " add_41 (Add)                (None, 8, 8, 256)            0         ['batch_normalization_104[0][0\n",
            "                                                                    ]',                           \n",
            "                                                                     'add_40[0][0]']              \n",
            "                                                                                                  \n",
            " flatten_6 (Flatten)         (None, 16384)                0         ['add_41[0][0]']              \n",
            "                                                                                                  \n",
            " dense_36 (Dense)            (None, 2048)                 3355648   ['flatten_6[0][0]']           \n",
            "                                                          0                                       \n",
            "                                                                                                  \n",
            " dense_39 (Dense)            (None, 2048)                 3355648   ['flatten_6[0][0]']           \n",
            "                                                          0                                       \n",
            "                                                                                                  \n",
            " dense_37 (Dense)            (None, 2048)                 4196352   ['dense_36[0][0]']            \n",
            "                                                                                                  \n",
            " dense_40 (Dense)            (None, 2048)                 4196352   ['dense_39[0][0]']            \n",
            "                                                                                                  \n",
            " dense_38 (Dense)            (None, 1792)                 3671808   ['dense_37[0][0]']            \n",
            "                                                                                                  \n",
            " dense_41 (Dense)            (None, 1)                    2049      ['dense_40[0][0]']            \n",
            "                                                                                                  \n",
            "==================================================================================================\n",
            "Total params: 81971137 (312.70 MB)\n",
            "Trainable params: 81966657 (312.68 MB)\n",
            "Non-trainable params: 4480 (17.50 KB)\n",
            "__________________________________________________________________________________________________\n"
          ]
        }
      ]
    },
    {
      "cell_type": "code",
      "source": [
        "import time"
      ],
      "metadata": {
        "id": "i9MV3eX8LL2f"
      },
      "execution_count": 126,
      "outputs": []
    },
    {
      "cell_type": "code",
      "source": [
        "\"\"\"\n",
        "testData=np.random.rand(8192,8,8,20)\n",
        "st=time.time()\n",
        "for i in range(200):\n",
        "    model(testData)\n",
        "print((time.time()-st)/200)\n",
        "\"\"\""
      ],
      "metadata": {
        "colab": {
          "base_uri": "https://localhost:8080/"
        },
        "id": "Zz4Wr0iaDlRK",
        "outputId": "01031fe0-4a12-4cf6-a60a-569ef83fe52a"
      },
      "execution_count": 27,
      "outputs": [
        {
          "output_type": "stream",
          "name": "stdout",
          "text": [
            "1.017355501651764\n"
          ]
        }
      ]
    },
    {
      "cell_type": "code",
      "source": [
        "def bitboard_to_array(bitboard, rows=8, cols=8):\n",
        "    # Convert the bitboard to binary\n",
        "    binary_representation = bin(bitboard)[2:].zfill(rows * cols)\n",
        "\n",
        "    # Create an empty array\n",
        "    board_array = np.zeros((rows, cols), dtype=int)\n",
        "\n",
        "    # Fill the array with bits from the binary representation\n",
        "    for i in range(rows):\n",
        "        for j in range(cols):\n",
        "            board_array[i, j] = int(binary_representation[i * cols + j])\n",
        "\n",
        "    return board_array"
      ],
      "metadata": {
        "id": "x_rrv-8Wbfpa"
      },
      "execution_count": 128,
      "outputs": []
    },
    {
      "cell_type": "code",
      "source": [],
      "metadata": {
        "id": "teg0byKVbKJ6"
      },
      "execution_count": null,
      "outputs": []
    }
  ]
}