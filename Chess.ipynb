{
  "nbformat": 4,
  "nbformat_minor": 0,
  "metadata": {
    "colab": {
      "provenance": [],
      "authorship_tag": "ABX9TyNRoD0nXX+Hs10c8ufewFBI",
      "include_colab_link": true
    },
    "kernelspec": {
      "name": "python3",
      "display_name": "Python 3"
    },
    "language_info": {
      "name": "python"
    }
  },
  "cells": [
    {
      "cell_type": "markdown",
      "metadata": {
        "id": "view-in-github",
        "colab_type": "text"
      },
      "source": [
        "<a href=\"https://colab.research.google.com/github/Isaac-Hirsch/ChessBot/blob/main/Chess.ipynb\" target=\"_parent\"><img src=\"https://colab.research.google.com/assets/colab-badge.svg\" alt=\"Open In Colab\"/></a>"
      ]
    },
    {
      "cell_type": "code",
      "execution_count": 62,
      "metadata": {
        "colab": {
          "base_uri": "https://localhost:8080/"
        },
        "id": "0dsa5WiQrPVZ",
        "outputId": "fda4e894-7eb2-4bb1-fb37-e6e7fb72f725"
      },
      "outputs": [
        {
          "output_type": "stream",
          "name": "stdout",
          "text": [
            "Requirement already satisfied: chess in /usr/local/lib/python3.10/dist-packages (1.10.0)\n"
          ]
        }
      ],
      "source": [
        "!pip install chess"
      ]
    },
    {
      "cell_type": "code",
      "source": [
        "import chess\n",
        "import numpy as np\n",
        "import pandas as pd\n",
        "from matplotlib import pyplot as plt\n",
        "import tensorflow as tf\n",
        "from tensorflow import keras\n",
        "from tensorflow.keras import layers\n",
        "from tensorflow.keras import activations\n",
        "import torch\n",
        "from chess import svg\n",
        "import IPython"
      ],
      "metadata": {
        "id": "6mgnxuegraqX"
      },
      "execution_count": 63,
      "outputs": []
    },
    {
      "cell_type": "code",
      "source": [
        "board=chess.Board()"
      ],
      "metadata": {
        "id": "vsrYf0K_sXEC"
      },
      "execution_count": 64,
      "outputs": []
    },
    {
      "cell_type": "code",
      "source": [
        "#display(IPython.display.HTML(svg.board(board=board, size=300)))"
      ],
      "metadata": {
        "id": "lcASr1DusHZF"
      },
      "execution_count": 65,
      "outputs": []
    },
    {
      "cell_type": "code",
      "source": [
        "print(chess.square_name(52))"
      ],
      "metadata": {
        "colab": {
          "base_uri": "https://localhost:8080/"
        },
        "id": "OBD9SPSztDaq",
        "outputId": "c427c3b7-7477-46ab-e7b8-da278edcf135"
      },
      "execution_count": 66,
      "outputs": [
        {
          "output_type": "stream",
          "name": "stdout",
          "text": [
            "e7\n"
          ]
        }
      ]
    },
    {
      "cell_type": "markdown",
      "source": [
        "# Test how to create boards and play moves on them. Also test how fast it is."
      ],
      "metadata": {
        "id": "BORuzq9DEdIr"
      }
    },
    {
      "cell_type": "code",
      "source": [
        "board=chess.Board()"
      ],
      "metadata": {
        "id": "P5L-K2z6tHR-"
      },
      "execution_count": 67,
      "outputs": []
    },
    {
      "cell_type": "code",
      "source": [
        "i=0\n",
        "for move in board.legal_moves:\n",
        "  i+=1\n",
        "\n",
        "print(i)"
      ],
      "metadata": {
        "colab": {
          "base_uri": "https://localhost:8080/"
        },
        "id": "j-QoutH-Eqxm",
        "outputId": "254ed243-2055-4274-a373-428466c3d106"
      },
      "execution_count": 68,
      "outputs": [
        {
          "output_type": "stream",
          "name": "stdout",
          "text": [
            "20\n"
          ]
        }
      ]
    },
    {
      "cell_type": "code",
      "source": [
        "board.reset()\n",
        "print(board.move_stack)\n",
        "board.push(chess.Move.from_uci('e2e4'))\n",
        "print(board.move_stack)\n",
        "board.push(chess.Move.from_uci('e7e5'))\n",
        "print(board.move_stack)\n",
        "board.push(chess.Move.from_uci('g1f3'))\n",
        "print(board.move_stack)\n",
        "board.push(chess.Move.from_uci('b8c6'))\n",
        "print(board.move_stack)\n",
        "i=0\n",
        "for move in board.legal_moves:\n",
        "  i+=1\n",
        "\n",
        "print(len(list(board.legal_moves)))\n",
        "#display(IPython.display.HTML(svg.board(board=board)))"
      ],
      "metadata": {
        "colab": {
          "base_uri": "https://localhost:8080/"
        },
        "id": "2W2mLgs-FKFU",
        "outputId": "871c1c90-33dd-4e2f-ddb1-d34666142d42"
      },
      "execution_count": 69,
      "outputs": [
        {
          "output_type": "stream",
          "name": "stdout",
          "text": [
            "[]\n",
            "[Move.from_uci('e2e4')]\n",
            "[Move.from_uci('e2e4'), Move.from_uci('e7e5')]\n",
            "[Move.from_uci('e2e4'), Move.from_uci('e7e5'), Move.from_uci('g1f3')]\n",
            "[Move.from_uci('e2e4'), Move.from_uci('e7e5'), Move.from_uci('g1f3'), Move.from_uci('b8c6')]\n",
            "27\n"
          ]
        }
      ]
    },
    {
      "cell_type": "code",
      "source": [
        "def depth_search(board, depth, num_pos):\n",
        "  if depth==0:\n",
        "    return num_pos+len(list(board.legal_moves))\n",
        "  else:\n",
        "    for move in board.legal_moves:\n",
        "      board.push(move)\n",
        "      num_pos=depth_search(board, depth-1, num_pos)\n",
        "      board.pop()\n",
        "    return num_pos"
      ],
      "metadata": {
        "id": "MOQcD19bFclP"
      },
      "execution_count": 70,
      "outputs": []
    },
    {
      "cell_type": "code",
      "source": [
        "board.reset()\n",
        "print(depth_search(board, 4, 0))"
      ],
      "metadata": {
        "colab": {
          "base_uri": "https://localhost:8080/"
        },
        "id": "oMSMK_jNIY6C",
        "outputId": "8bbaf241-8f1f-4b53-82a3-005faf29fde0"
      },
      "execution_count": 71,
      "outputs": [
        {
          "output_type": "stream",
          "name": "stdout",
          "text": [
            "4865609\n"
          ]
        }
      ]
    },
    {
      "cell_type": "code",
      "source": [
        "#Try to remove the minmax variable\n",
        "def alpha_beta(board, evaluator, depth, max, alpha=-np.inf, beta=np.inf):\n",
        "  if depth==0:\n",
        "    return evaluator(board)\n",
        "  elif max:\n",
        "    for move in board.legal_moves:\n",
        "      board.push(move)\n",
        "      eva=alpha_beta(board, evaluator, depth-1, False, alpha, beta)\n",
        "      maxEva=max(maxEva, eva)\n",
        "      board.pop()\n",
        "      alpha=max(alpha, eva)\n",
        "      if beta<=alpha:\n",
        "        break\n",
        "    return maxEva\n",
        "  else:\n",
        "    for move in board.legal_moves:\n",
        "      board.push(move)\n",
        "      eva=alpha_beta(board, evaluator, depth-1, True, alpha, beta)\n",
        "      minEva=min(minEva, eva)\n",
        "      board.pop()\n",
        "      alpha=min(beta, eva)\n",
        "      if beta<=alpha:\n",
        "        break\n",
        "    return minEva"
      ],
      "metadata": {
        "id": "cBij5aLgIdhq"
      },
      "execution_count": 72,
      "outputs": []
    },
    {
      "cell_type": "code",
      "source": [
        "def evaluate_position(board):\n",
        "    # Check for endgame scenarios\n",
        "    if board.is_checkmate():\n",
        "        if board.turn == chess.WHITE:\n",
        "            return -np.inf  # Black wins\n",
        "        else:\n",
        "            return np.inf  # White wins\n",
        "    elif board.is_stalemate() or board.is_insufficient_material() or board.can_claim_draw():\n",
        "        return 0  # Draw\n",
        "\n",
        "    # Material values\n",
        "    piece_values = {chess.PAWN: 1, chess.KNIGHT: 3, chess.BISHOP: 3, chess.ROOK: 5, chess.QUEEN: 9}\n",
        "\n",
        "    # Calculate material balance\n",
        "    material_balance = 0\n",
        "    for piece_type in piece_values:\n",
        "        material_balance += len(board.pieces(piece_type, chess.WHITE)) * piece_values[piece_type]\n",
        "        material_balance -= len(board.pieces(piece_type, chess.BLACK)) * piece_values[piece_type]\n",
        "\n",
        "    # Basic positional factors\n",
        "    center_squares = [chess.D4, chess.E4, chess.D5, chess.E5]\n",
        "    for square in center_squares:\n",
        "        if board.piece_at(square):\n",
        "            if board.piece_at(square).color == chess.WHITE:\n",
        "                material_balance += 0.1  # Slight advantage for controlling a center square\n",
        "            else:\n",
        "                material_balance -= 0.1\n",
        "\n",
        "    # Piece activity\n",
        "    white_mobility = len(list(board.legal_moves))\n",
        "    board.push(chess.Move.null())  # Switch turn to get mobility for the other side\n",
        "    black_mobility = len(list(board.legal_moves))\n",
        "    board.pop()  # Revert the null move\n",
        "    mobility_balance = 0.01 * (white_mobility - black_mobility)\n",
        "\n",
        "    # Check for \"king and queen vs king\" or \"king and rook vs king\" scenarios\n",
        "    if len(board.piece_map()) == 3:\n",
        "        if board.has_queen() or board.has_rook():\n",
        "            # Reward for minimizing the opposing king's mobility\n",
        "            opposing_color = not board.turn\n",
        "            king_mobility = evaluate_king_mobility(board, opposing_color)\n",
        "            mobility_score = -0.5 * king_mobility  # Negative score as we want to minimize this\n",
        "            return material_balance + mobility_balance + 100 + mobility_score  # Add base score for having a queen/rook advantage\n",
        "\n",
        "    return material_balance + mobility_balance\n",
        "\n",
        "def evaluate_king_mobility(board, color):\n",
        "    # Temporarily switch turns to calculate the opponent's king's legal moves\n",
        "    board.push(chess.Move.null())\n",
        "    king_moves = list(board.generate_legal_moves())\n",
        "    board.pop()\n",
        "\n",
        "    # Filter moves for the king\n",
        "    king_square = board.king(color)\n",
        "    king_moves = [move for move in king_moves if move.from_square == king_square]\n",
        "\n",
        "    return len(king_moves)\n",
        "\n",
        "# Test the function with a sample position\n",
        "board = chess.Board()\n",
        "board.push(chess.Move.from_uci(\"e2e4\"))\n",
        "board.push(chess.Move.from_uci(\"e7e5\"))\n",
        "board.push(chess.Move.from_uci(\"g1f3\"))\n",
        "board.push(chess.Move.from_uci(\"b8c6\"))\n",
        "board.push(chess.Move.from_uci(\"f1c4\"))\n",
        "board.push(chess.Move.from_uci(\"f8c5\"))\n",
        "evaluation = evaluate_position(board)\n",
        "print(\"Evaluation of the position (positive is good for White, negative for Black, infinity for a win, zero for a draw):\", evaluation)"
      ],
      "metadata": {
        "colab": {
          "base_uri": "https://localhost:8080/"
        },
        "id": "dAY2SWbWOdas",
        "outputId": "4d43b5d3-d5f1-4620-e467-82bd6456af20"
      },
      "execution_count": 73,
      "outputs": [
        {
          "output_type": "stream",
          "name": "stdout",
          "text": [
            "Evaluation of the position (positive is good for White, negative for Black, infinity for a win, zero for a draw): -0.03\n"
          ]
        }
      ]
    },
    {
      "cell_type": "markdown",
      "source": [
        "# Alpha Zero"
      ],
      "metadata": {
        "id": "sYe7JZEQfUnf"
      }
    },
    {
      "cell_type": "code",
      "source": [
        "#This function will take in an injectivie list and outputs a dictionary where the keys are is the data stored in the list and the indexs are the values\n",
        "def listInverter(l: list)-> dict:\n",
        "    return {value: index for index, value in enumerate(l)}\n",
        "\n",
        "#Function to convert a row and col into a single index\n",
        "def squareIndexing(row: int, col: int)->int:\n",
        "    assert 0<=row<=7\n",
        "    assert 0<=col<=7\n",
        "    return 8*row+col\n",
        "\n",
        "#Function to convert a single index into a row and col\n",
        "def squareDeIndexing(index: int)-> tuple[int,int]:\n",
        "    assert 0<=index<=63\n",
        "    return index//8, index%8\n",
        "\n",
        "#dictionary to get the standard value of a piece\n",
        "pieceValueDict={1:1,2:3,3:3,4:5,5:9,6:0}"
      ],
      "metadata": {
        "id": "c77UOBsC_8Wg"
      },
      "execution_count": 74,
      "outputs": []
    },
    {
      "cell_type": "code",
      "source": [
        "\"\"\"\n",
        "These functions will be used in getGenMoveDict to determine every possible legal generalized move. These\n",
        "functions will take in an input row and column and output all the rows and columns that the piece can move to.\n",
        "These functions are seperated so they can be unit tested.\n",
        "\"\"\"\n",
        "\n",
        "def rookMoves(row: int, col: int)-> list:\n",
        "    assert 0<=row<=7\n",
        "    assert 0<=col<=7\n",
        "    moves=[]\n",
        "    for rookRow in range(8):\n",
        "        if rookRow != row:\n",
        "            moves.append(squareIndexing(rookRow,col))\n",
        "    for rookCol in range(8):\n",
        "        if rookCol != col:\n",
        "            moves.append(squareIndexing(row, rookCol))\n",
        "    return moves\n",
        "\n",
        "def knightMoves(row: int, col: int)-> list:\n",
        "    assert 0<=row<=7\n",
        "    assert 0<=col<=7\n",
        "    moves=[]\n",
        "    if row+2<8:\n",
        "        if col+1<8:\n",
        "            moves.append(squareIndexing(row+2,col+1))\n",
        "        if col-1>=0:\n",
        "            moves.append(squareIndexing(row+2,col-1))\n",
        "    if row-2>=0:\n",
        "        if col+1<8:\n",
        "            moves.append(squareIndexing(row-2,col+1))\n",
        "        if col-1>=0:\n",
        "            moves.append(squareIndexing(row-2,col-1))\n",
        "    if col+2<8:\n",
        "        if row+1<8:\n",
        "            moves.append(squareIndexing(row+1,col+2))\n",
        "        if row-1>=0:\n",
        "            moves.append(squareIndexing(row-1,col+2))\n",
        "    if col-2>=0:\n",
        "        if row+1<8:\n",
        "            moves.append(squareIndexing(row+1,col-2))\n",
        "        if row-1>=0:\n",
        "            moves.append(squareIndexing(row-1,col-2))\n",
        "    return moves\n",
        "\n",
        "def bishopMoves(row: int, col: int)-> list:\n",
        "    assert 0<=row<=7\n",
        "    assert 0<=col<=7\n",
        "    moves=[]\n",
        "    for mainDiag in range(8-abs(row+col-7)):\n",
        "        if min(7,col+row) - mainDiag != row:\n",
        "            moves.append(squareIndexing(min(7,col+row)-mainDiag, max(0,row+col-7)+mainDiag))\n",
        "    for offDiag in range(8-abs(row-col)):\n",
        "        if max(0,row-col)+offDiag != row:\n",
        "            moves.append(squareIndexing(max(0,row-col)+offDiag ,max(0,col-row)+offDiag))\n",
        "    return moves"
      ],
      "metadata": {
        "id": "X-7zabgaJgPq"
      },
      "execution_count": 75,
      "outputs": []
    },
    {
      "cell_type": "code",
      "source": [
        "#Unit tests for each pieceMoves function\n",
        "board=chess.Board()\n",
        "\n",
        "for row in range(8):\n",
        "    for col in range(8):\n",
        "        #Testing rookMoves\n",
        "        board.clear()\n",
        "        board.set_piece_at(square=squareIndexing(row, col), piece=chess.Piece(chess.ROOK, chess.WHITE))\n",
        "        assert [legalmove.to_square for legalmove in board.legal_moves].sort() == rookMoves(row, col).sort(), f\"rookMove error at: row: {row}, col: {col}\"\n",
        "\n",
        "        #Testing knightMoves\n",
        "        board.clear()\n",
        "        board.set_piece_at(square=squareIndexing(row, col), piece=chess.Piece(chess.KNIGHT, chess.WHITE))\n",
        "        assert [legalmove.to_square for legalmove in board.legal_moves].sort() == knightMoves(row, col).sort(), f\"knightMove error at: row: {row}, col: {col}\"\n",
        "\n",
        "        #Testing bishopMoves\n",
        "        board.clear()\n",
        "        board.set_piece_at(square=squareIndexing(row, col), piece=chess.Piece(chess.BISHOP, chess.WHITE))\n",
        "        assert [legalmove.to_square for legalmove in board.legal_moves].sort() == bishopMoves(row, col).sort(), f\"bishopMove error at: row: {row}, col: {col}\"\n",
        "board.reset()"
      ],
      "metadata": {
        "id": "O50O5na8H-NQ"
      },
      "execution_count": 76,
      "outputs": []
    },
    {
      "cell_type": "code",
      "source": [
        "\"\"\"\n",
        "This function will be used to determine every possible legal generalized move and be used as a helper function to interacting with\n",
        "dualHeadResNet's policy head. Each generalized move will be a number of the index of the square the piece is moving from times 64\n",
        "plus the index of the square the piece is moving to. The list will shorten this to only moves that could be legal. Castling will be represented\n",
        "the king moving 2 squares in one direction. Therefore all legal moves will either be moves accessable by a rook, bishop, or knight.\n",
        "This function is unit tested.\n",
        "\"\"\"\n",
        "def getGenMoveDict()->tuple[list,dict]:\n",
        "    moveList=[]\n",
        "    #Looping over each square.\n",
        "    for row in range(8):\n",
        "        for col in range(8):\n",
        "            genFrom=64*(row*8+col)\n",
        "\n",
        "            #Rook moves:\n",
        "            moveList+=[genFrom + move for move in rookMoves(row,col)]\n",
        "\n",
        "            #Knight moves:\n",
        "            moveList+=[genFrom + move for move in knightMoves(row,col)]\n",
        "\n",
        "            #Bishop moves:\n",
        "            moveList+=[genFrom + move for move in bishopMoves(row,col)]\n",
        "\n",
        "    return moveList, listInverter(moveList)"
      ],
      "metadata": {
        "id": "SNP8aGj9Jgr8"
      },
      "execution_count": 77,
      "outputs": []
    },
    {
      "cell_type": "code",
      "source": [
        "moveList, moveDict = getGenMoveDict()\n",
        "print(len(moveList))"
      ],
      "metadata": {
        "colab": {
          "base_uri": "https://localhost:8080/"
        },
        "id": "LEe-R-rmFWoE",
        "outputId": "8f84796a-67fe-4731-b608-121cf9c33b5c"
      },
      "execution_count": 78,
      "outputs": [
        {
          "output_type": "stream",
          "name": "stdout",
          "text": [
            "1792\n"
          ]
        }
      ]
    },
    {
      "cell_type": "code",
      "source": [
        "print(type(squareDeIndexing(40)))"
      ],
      "metadata": {
        "colab": {
          "base_uri": "https://localhost:8080/"
        },
        "id": "Ke8auAJRjQ8Z",
        "outputId": "f4f987b2-31cc-4691-b5de-73a88964f124"
      },
      "execution_count": 79,
      "outputs": [
        {
          "output_type": "stream",
          "name": "stdout",
          "text": [
            "<class 'tuple'>\n"
          ]
        }
      ]
    },
    {
      "cell_type": "code",
      "source": [
        "from typing_extensions import NewType\n",
        "\"\"\"\n",
        "This function will turn an input chess.board object into a numpy array that matches the input format listed\n",
        "by the dualHeadedResNet function. Specifically the the 8x8 is the chess board with the first 12 boards of the third dimension\n",
        "being the pieces in order from least to most valuable for white then black, the next 2 are for short castling, the next 2 are for long castling,\n",
        "the next is for en peasent, the next is for net piece count, the next is for checking pieces, and the final is for whose turn it is.\n",
        "\n",
        "Could maybe be updated to get rid off all the nots without affecting preformace\n",
        "\"\"\"\n",
        "def boardToInput(board: chess.Board)->np.ndarray:\n",
        "    output=np.zeros((1,8,8,20))\n",
        "\n",
        "    #Filling the pieces and collecting net pieces value\n",
        "    netPieces=0\n",
        "\n",
        "    for color in [chess.WHITE, chess.BLACK]:\n",
        "        for piece in [chess.PAWN, chess.KNIGHT, chess.BISHOP, chess.ROOK, chess.QUEEN, chess.KING]:\n",
        "            netPieces+=(-1)**(not color)*pieceValueDict[piece]*len(board.pieces(piece,color))\n",
        "            for square in board.pieces(piece,color):\n",
        "                output[(0,*squareDeIndexing(square),(piece-1)+(not color)*6)]=(-1)**(not color)\n",
        "\n",
        "    #Filling castling\n",
        "    for color in [chess.WHITE, chess.BLACK]:\n",
        "        if board.has_kingside_castling_rights(color):\n",
        "            output[0,:,:,12+(not color)]=(-1)**(not color)\n",
        "        if board.has_queenside_castling_rights(color):\n",
        "            output[0,:,:,14+(not color)]=(-1)**(not color)\n",
        "\n",
        "    #Filling en peasent\n",
        "    if not board.ep_square is None:\n",
        "        output[(0,*squareDeIndexing(board.ep_square),16)]=(-1)**(not board.turn)\n",
        "\n",
        "    #Filling net piece count\n",
        "    output[0,:,:,17]=netPieces\n",
        "\n",
        "    #Filling in checkers\n",
        "    if board.is_check():\n",
        "        for square in board.checkers():\n",
        "            output[(0,*squareDeIndexing(square),18)]=(-1)**(not board.turn)\n",
        "\n",
        "    #Filling in whose turn it is\n",
        "    output[0,:,:,19]=(-1)**(not board.turn)\n",
        "\n",
        "\n",
        "    return output"
      ],
      "metadata": {
        "id": "URZfom-HXB5s"
      },
      "execution_count": 80,
      "outputs": []
    },
    {
      "cell_type": "code",
      "source": [
        "#Layer that maks the output of the policy based on the legal moves in the position.\n",
        "class legalMovesMask(layers.Layer):\n",
        "    def __init__(self, moveList, moveDict, **kwargs):\n",
        "        super().__init__(kwargs)\n",
        "        self.moveList=moveList\n",
        "        self.moveDict=moveDict\n",
        "\n",
        "    def call(self, inputs):\n",
        "        pass"
      ],
      "metadata": {
        "id": "l7kgvVQnVG8b"
      },
      "execution_count": 81,
      "outputs": []
    },
    {
      "cell_type": "code",
      "source": [
        "\"\"\"\n",
        "This function is the main brain of the chess model. It uses a resnet to build up information about the board before it is\n",
        "split into two heads. One of the heads decided the next move for a MC Tree Search, the other head is a static board evaluator.\n",
        "This program follows the style of alpha zero.\n",
        "\"\"\"\n",
        "def dualHeadedResNet(blocks: int=5, activation: str=\"relu\", factor: int=2, initialFilters: int=64, denseLatent: int=2048):\n",
        "    # The input has a dimensionality of (8,8,20). The first 12 layers are the pieces in order from least to most valuable for white then black\n",
        "    # The next 2 dimensions are whites ability to short castle and long castle, followed by blacks ability to short castle and long castle\n",
        "    # The castling inputs are filled boards with either 1 the color can castle in that direction or -1 if they can't\n",
        "    # The next dimension is en peasent which is a board filled with 0's in all squares except for the capturing square of en peasent (3rd or 6th rank)\n",
        "    # These capturing squares are marked by either a 1 if white can capture en peasent or -1 if black can capture en peasent\n",
        "    # The next dimension is the net piece count which is a filled board of the net piece count with whites material being positive and black's negative\n",
        "    # The next dimension is for checking pieces with a filled board of 0's except for a 1 at every piece checking black and a -1 for pieces checking white\n",
        "    # The final dimension is whos turn it is with a full board of 1's if its white's turn and a full board of 0's if its black turn.\n",
        "\n",
        "    # This might need to be extended with something to deal with repetition.\n",
        "    inputs = keras.Input(shape=(8,8,20))\n",
        "\n",
        "    features = layers.Conv2D(filters=initialFilters, kernel_size=(3,3), activation=activation, padding='same')(inputs)\n",
        "    features = layers.BatchNormalization()(features)\n",
        "    res=features\n",
        "    for block in range(blocks):\n",
        "        features = layers.Conv2D(filters=initialFilters, kernel_size=(3,3), activation=activation, padding='same')(features)\n",
        "        features = layers.BatchNormalization()(features)\n",
        "        features = layers.Conv2D(filters=initialFilters, kernel_size=(3,3), activation=activation, padding='same')(features)\n",
        "        features = layers.BatchNormalization()(features)\n",
        "        features = layers.add([features, res])\n",
        "        res=features\n",
        "        features = layers.Conv2D(filters=initialFilters, kernel_size=(3,3), activation=activation, padding='same')(features)\n",
        "        features = layers.BatchNormalization()(features)\n",
        "        features = layers.Conv2D(filters=initialFilters, kernel_size=(3,3), activation=activation, padding='same')(features)\n",
        "        features = layers.BatchNormalization()(features)\n",
        "        features = layers.add([features, res])\n",
        "        if block != blocks-1:\n",
        "          initialFilters*=factor #increasing the number of filters each block by the factor paramater\n",
        "          res= layers.Conv2D(filters=initialFilters, kernel_size=(1,1))(features) #Upsampling the residual connection so it can be added to the next layer\n",
        "          res= layers.BatchNormalization()(res)\n",
        "    features=layers.Flatten()(features)\n",
        "\n",
        "    #Head that determines the next move for the Monte Carlo tree search\n",
        "    policyHead = layers.Dense(denseLatent, activation=activation)(features)\n",
        "    policyHead = layers.Dense(denseLatent, activation=activation)(policyHead)\n",
        "    policyHead = layers.Dense(len(getGenMoveDict()[0]), activation=None)(policyHead) #Generalized to every possible move. Illegal moves will be masked.\n",
        "\n",
        "    #Head that determines the value of the board\n",
        "    valueHead = layers.Dense(denseLatent, activation=activation)(features)\n",
        "    valueHead = layers.Dense(denseLatent, activation=activation)(valueHead)\n",
        "    valueHead = layers.Dense(1, activation=\"tanh\")(valueHead)\n",
        "\n",
        "    return keras.Model(inputs=inputs, outputs=[policyHead, valueHead])\n",
        "\n"
      ],
      "metadata": {
        "id": "MK63NBcOLn6-"
      },
      "execution_count": 82,
      "outputs": []
    },
    {
      "cell_type": "code",
      "source": [
        "def getLegelMovesMask(board):\n",
        "    output=np.zeros(len(moveList), dtype=bool)\n",
        "    for move in board.legal_moves:\n",
        "        output[moveDict[64*move.from_square+move.to_square]]=1\n",
        "    return output"
      ],
      "metadata": {
        "id": "4Z8qFlQfp7lp"
      },
      "execution_count": 83,
      "outputs": []
    },
    {
      "cell_type": "code",
      "source": [
        "model=dualHeadedResNet(blocks=3, activation=\"relu\", factor=2, initialFilters=64, denseLatent=2048)\n",
        "model.summary()"
      ],
      "metadata": {
        "colab": {
          "base_uri": "https://localhost:8080/"
        },
        "id": "rm2JC8KdwI5t",
        "outputId": "1f98fd0f-d2c2-47f6-d001-44d94746d8b5"
      },
      "execution_count": 84,
      "outputs": [
        {
          "output_type": "stream",
          "name": "stdout",
          "text": [
            "Model: \"model_1\"\n",
            "__________________________________________________________________________________________________\n",
            " Layer (type)                Output Shape                 Param #   Connected to                  \n",
            "==================================================================================================\n",
            " input_2 (InputLayer)        [(None, 8, 8, 20)]           0         []                            \n",
            "                                                                                                  \n",
            " conv2d_15 (Conv2D)          (None, 8, 8, 64)             11584     ['input_2[0][0]']             \n",
            "                                                                                                  \n",
            " batch_normalization_15 (Ba  (None, 8, 8, 64)             256       ['conv2d_15[0][0]']           \n",
            " tchNormalization)                                                                                \n",
            "                                                                                                  \n",
            " conv2d_16 (Conv2D)          (None, 8, 8, 64)             36928     ['batch_normalization_15[0][0]\n",
            "                                                                    ']                            \n",
            "                                                                                                  \n",
            " batch_normalization_16 (Ba  (None, 8, 8, 64)             256       ['conv2d_16[0][0]']           \n",
            " tchNormalization)                                                                                \n",
            "                                                                                                  \n",
            " conv2d_17 (Conv2D)          (None, 8, 8, 64)             36928     ['batch_normalization_16[0][0]\n",
            "                                                                    ']                            \n",
            "                                                                                                  \n",
            " batch_normalization_17 (Ba  (None, 8, 8, 64)             256       ['conv2d_17[0][0]']           \n",
            " tchNormalization)                                                                                \n",
            "                                                                                                  \n",
            " add_6 (Add)                 (None, 8, 8, 64)             0         ['batch_normalization_17[0][0]\n",
            "                                                                    ',                            \n",
            "                                                                     'batch_normalization_15[0][0]\n",
            "                                                                    ']                            \n",
            "                                                                                                  \n",
            " conv2d_18 (Conv2D)          (None, 8, 8, 64)             36928     ['add_6[0][0]']               \n",
            "                                                                                                  \n",
            " batch_normalization_18 (Ba  (None, 8, 8, 64)             256       ['conv2d_18[0][0]']           \n",
            " tchNormalization)                                                                                \n",
            "                                                                                                  \n",
            " conv2d_19 (Conv2D)          (None, 8, 8, 64)             36928     ['batch_normalization_18[0][0]\n",
            "                                                                    ']                            \n",
            "                                                                                                  \n",
            " batch_normalization_19 (Ba  (None, 8, 8, 64)             256       ['conv2d_19[0][0]']           \n",
            " tchNormalization)                                                                                \n",
            "                                                                                                  \n",
            " add_7 (Add)                 (None, 8, 8, 64)             0         ['batch_normalization_19[0][0]\n",
            "                                                                    ',                            \n",
            "                                                                     'add_6[0][0]']               \n",
            "                                                                                                  \n",
            " conv2d_21 (Conv2D)          (None, 8, 8, 128)            73856     ['add_7[0][0]']               \n",
            "                                                                                                  \n",
            " batch_normalization_21 (Ba  (None, 8, 8, 128)            512       ['conv2d_21[0][0]']           \n",
            " tchNormalization)                                                                                \n",
            "                                                                                                  \n",
            " conv2d_22 (Conv2D)          (None, 8, 8, 128)            147584    ['batch_normalization_21[0][0]\n",
            "                                                                    ']                            \n",
            "                                                                                                  \n",
            " conv2d_20 (Conv2D)          (None, 8, 8, 128)            8320      ['add_7[0][0]']               \n",
            "                                                                                                  \n",
            " batch_normalization_22 (Ba  (None, 8, 8, 128)            512       ['conv2d_22[0][0]']           \n",
            " tchNormalization)                                                                                \n",
            "                                                                                                  \n",
            " batch_normalization_20 (Ba  (None, 8, 8, 128)            512       ['conv2d_20[0][0]']           \n",
            " tchNormalization)                                                                                \n",
            "                                                                                                  \n",
            " add_8 (Add)                 (None, 8, 8, 128)            0         ['batch_normalization_22[0][0]\n",
            "                                                                    ',                            \n",
            "                                                                     'batch_normalization_20[0][0]\n",
            "                                                                    ']                            \n",
            "                                                                                                  \n",
            " conv2d_23 (Conv2D)          (None, 8, 8, 128)            147584    ['add_8[0][0]']               \n",
            "                                                                                                  \n",
            " batch_normalization_23 (Ba  (None, 8, 8, 128)            512       ['conv2d_23[0][0]']           \n",
            " tchNormalization)                                                                                \n",
            "                                                                                                  \n",
            " conv2d_24 (Conv2D)          (None, 8, 8, 128)            147584    ['batch_normalization_23[0][0]\n",
            "                                                                    ']                            \n",
            "                                                                                                  \n",
            " batch_normalization_24 (Ba  (None, 8, 8, 128)            512       ['conv2d_24[0][0]']           \n",
            " tchNormalization)                                                                                \n",
            "                                                                                                  \n",
            " add_9 (Add)                 (None, 8, 8, 128)            0         ['batch_normalization_24[0][0]\n",
            "                                                                    ',                            \n",
            "                                                                     'add_8[0][0]']               \n",
            "                                                                                                  \n",
            " conv2d_26 (Conv2D)          (None, 8, 8, 256)            295168    ['add_9[0][0]']               \n",
            "                                                                                                  \n",
            " batch_normalization_26 (Ba  (None, 8, 8, 256)            1024      ['conv2d_26[0][0]']           \n",
            " tchNormalization)                                                                                \n",
            "                                                                                                  \n",
            " conv2d_27 (Conv2D)          (None, 8, 8, 256)            590080    ['batch_normalization_26[0][0]\n",
            "                                                                    ']                            \n",
            "                                                                                                  \n",
            " conv2d_25 (Conv2D)          (None, 8, 8, 256)            33024     ['add_9[0][0]']               \n",
            "                                                                                                  \n",
            " batch_normalization_27 (Ba  (None, 8, 8, 256)            1024      ['conv2d_27[0][0]']           \n",
            " tchNormalization)                                                                                \n",
            "                                                                                                  \n",
            " batch_normalization_25 (Ba  (None, 8, 8, 256)            1024      ['conv2d_25[0][0]']           \n",
            " tchNormalization)                                                                                \n",
            "                                                                                                  \n",
            " add_10 (Add)                (None, 8, 8, 256)            0         ['batch_normalization_27[0][0]\n",
            "                                                                    ',                            \n",
            "                                                                     'batch_normalization_25[0][0]\n",
            "                                                                    ']                            \n",
            "                                                                                                  \n",
            " conv2d_28 (Conv2D)          (None, 8, 8, 256)            590080    ['add_10[0][0]']              \n",
            "                                                                                                  \n",
            " batch_normalization_28 (Ba  (None, 8, 8, 256)            1024      ['conv2d_28[0][0]']           \n",
            " tchNormalization)                                                                                \n",
            "                                                                                                  \n",
            " conv2d_29 (Conv2D)          (None, 8, 8, 256)            590080    ['batch_normalization_28[0][0]\n",
            "                                                                    ']                            \n",
            "                                                                                                  \n",
            " batch_normalization_29 (Ba  (None, 8, 8, 256)            1024      ['conv2d_29[0][0]']           \n",
            " tchNormalization)                                                                                \n",
            "                                                                                                  \n",
            " add_11 (Add)                (None, 8, 8, 256)            0         ['batch_normalization_29[0][0]\n",
            "                                                                    ',                            \n",
            "                                                                     'add_10[0][0]']              \n",
            "                                                                                                  \n",
            " flatten_1 (Flatten)         (None, 16384)                0         ['add_11[0][0]']              \n",
            "                                                                                                  \n",
            " dense_6 (Dense)             (None, 2048)                 3355648   ['flatten_1[0][0]']           \n",
            "                                                          0                                       \n",
            "                                                                                                  \n",
            " dense_9 (Dense)             (None, 2048)                 3355648   ['flatten_1[0][0]']           \n",
            "                                                          0                                       \n",
            "                                                                                                  \n",
            " dense_7 (Dense)             (None, 2048)                 4196352   ['dense_6[0][0]']             \n",
            "                                                                                                  \n",
            " dense_10 (Dense)            (None, 2048)                 4196352   ['dense_9[0][0]']             \n",
            "                                                                                                  \n",
            " dense_8 (Dense)             (None, 1792)                 3671808   ['dense_7[0][0]']             \n",
            "                                                                                                  \n",
            " dense_11 (Dense)            (None, 1)                    2049      ['dense_10[0][0]']            \n",
            "                                                                                                  \n",
            "==================================================================================================\n",
            "Total params: 81971137 (312.70 MB)\n",
            "Trainable params: 81966657 (312.68 MB)\n",
            "Non-trainable params: 4480 (17.50 KB)\n",
            "__________________________________________________________________________________________________\n"
          ]
        }
      ]
    },
    {
      "cell_type": "code",
      "source": [
        "import time"
      ],
      "metadata": {
        "id": "i9MV3eX8LL2f"
      },
      "execution_count": 85,
      "outputs": []
    },
    {
      "cell_type": "code",
      "source": [
        "\"\"\"\n",
        "testData=np.random.rand(8192,8,8,20)\n",
        "st=time.time()\n",
        "for i in range(200):\n",
        "    model(testData)\n",
        "print((time.time()-st)/200)\n",
        "\"\"\""
      ],
      "metadata": {
        "colab": {
          "base_uri": "https://localhost:8080/",
          "height": 35
        },
        "id": "Zz4Wr0iaDlRK",
        "outputId": "8ab4bd25-2793-4f9e-893b-efc7940ecdd6"
      },
      "execution_count": 86,
      "outputs": [
        {
          "output_type": "execute_result",
          "data": {
            "text/plain": [
              "'\\ntestData=np.random.rand(8192,8,8,20)\\nst=time.time()\\nfor i in range(200):\\n    model(testData)\\nprint((time.time()-st)/200)\\n'"
            ],
            "application/vnd.google.colaboratory.intrinsic+json": {
              "type": "string"
            }
          },
          "metadata": {},
          "execution_count": 86
        }
      ]
    },
    {
      "cell_type": "markdown",
      "source": [
        "## Prelimary test of if it can play chess"
      ],
      "metadata": {
        "id": "JQGKQEhHneNS"
      }
    },
    {
      "cell_type": "code",
      "source": [
        "\"\"\"\n",
        "#This code is designed to make sure that when untrained the model will still be able to find desisive results and therefore non-trivial rewards.\n",
        "\n",
        "board=chess.Board()\n",
        "gameLengths=[]\n",
        "model=dualHeadedResNet(blocks=3, activation=\"relu\", factor=2, initialFilters=64, denseLatent=2048)\n",
        "while not board.is_checkmate():\n",
        "    board.reset()\n",
        "    i=0\n",
        "    while not board.is_game_over():\n",
        "        i+=1\n",
        "        output=model.predict(boardToInput(board), verbose=0)\n",
        "        policy=output[0][0]\n",
        "        mask=getLegelMovesMask(board)\n",
        "        masked_output=policy* mask\n",
        "        output_with_nan=np.where(masked_output == 0, np.nan, masked_output)\n",
        "        softmax_output=np.exp(output_with_nan)/np.nansum(np.exp(output_with_nan))\n",
        "        indexes=np.array(range(len(moveList)))\n",
        "        moveIndex=moveList[np.random.choice(indexes, p=np.where(np.isnan(softmax_output), 0, softmax_output))]\n",
        "        from_square=moveIndex//64\n",
        "        to_square=moveIndex%64\n",
        "        if (board.piece_at(from_square).piece_type == chess.PAWN) and (to_square//8 in (0,7)):\n",
        "            move=chess.Move(from_square, to_square, promotion=chess.QUEEN)\n",
        "        else:\n",
        "            move=chess.Move(from_square, to_square)\n",
        "        board.push(move)\n",
        "        if i % 100 ==0:\n",
        "            print(i)\n",
        "            display(IPython.display.HTML(svg.board(board=board, size=300)))\n",
        "    gameLengths.append(i)\n",
        "    display(IPython.display.HTML(svg.board(board=board, size=300)))\n",
        "    print(board.result())\n",
        "print(gameLengths)\n",
        "print(len(gameLengths))\n",
        "print(sum(gameLengths)/len(gameLengths))\n",
        "\"\"\""
      ],
      "metadata": {
        "colab": {
          "base_uri": "https://localhost:8080/",
          "height": 143
        },
        "id": "C4eNIHpHlL6-",
        "outputId": "036d92b6-3db9-4daa-fa13-7119107a768a"
      },
      "execution_count": 87,
      "outputs": [
        {
          "output_type": "execute_result",
          "data": {
            "text/plain": [
              "'\\n#This code is designed to make sure that when untrained the model will still be able to find desisive results and therefore non-trivial rewards.\\n\\nboard=chess.Board()\\ngameLengths=[]\\nmodel=dualHeadedResNet(blocks=3, activation=\"relu\", factor=2, initialFilters=64, denseLatent=2048)\\nwhile not board.is_checkmate():\\n    board.reset()\\n    i=0\\n    while not board.is_game_over():\\n        i+=1\\n        output=model.predict(boardToInput(board), verbose=0)\\n        policy=output[0][0]\\n        mask=getLegelMovesMask(board)\\n        masked_output=policy* mask\\n        output_with_nan=np.where(masked_output == 0, np.nan, masked_output)\\n        softmax_output=np.exp(output_with_nan)/np.nansum(np.exp(output_with_nan))\\n        indexes=np.array(range(len(moveList)))\\n        moveIndex=moveList[np.random.choice(indexes, p=np.where(np.isnan(softmax_output), 0, softmax_output))]\\n        from_square=moveIndex//64\\n        to_square=moveIndex%64\\n        if (board.piece_at(from_square).piece_type == chess.PAWN) and (to_square//8 in (0,7)):\\n            move=chess.Move(from_square, to_square, promotion=chess.QUEEN)\\n        else:\\n            move=chess.Move(from_square, to_square)\\n        board.push(move)\\n        if i % 100 ==0:\\n            print(i)\\n            display(IPython.display.HTML(svg.board(board=board, size=300)))\\n    gameLengths.append(i)\\n    display(IPython.display.HTML(svg.board(board=board, size=300)))\\n    print(board.result())\\nprint(gameLengths)\\nprint(len(gameLengths))\\nprint(sum(gameLengths)/len(gameLengths))\\n'"
            ],
            "application/vnd.google.colaboratory.intrinsic+json": {
              "type": "string"
            }
          },
          "metadata": {},
          "execution_count": 87
        }
      ]
    },
    {
      "cell_type": "code",
      "source": [
        "\"\"\"\n",
        "General replay buffer class. In practice we will use 3 of them, 1 to store positions from games that ended in a win, one for those that ended in a loss,\n",
        "and one for those that ended in draws. Each entry will store a board, a policy, and a value. The board array will be in the input format of\n",
        "shape=(size,8,8,20) the policy array will be of shape=(size,len(moveList)) and the value array will be of shape=(size,1). These will be used\n",
        "to train and model and will be regularly updated in the style of a queue with more up to date games.\n",
        "\"\"\"\n",
        "#Has been unit tested\n",
        "class replayBuffer(object):\n",
        "    def __init__(self,size: int=20000):\n",
        "        assert type(size)==int, \"size must be an integer\"\n",
        "        self.size=size\n",
        "        self.length=0 #Length will keep track of the index after the last added entry so implement first in first out behavior\n",
        "        self.entries=0 #Entries will keep track of how many events the buffer is currently storing\n",
        "        self.boardList=np.zeros((size,8,8,20), dtype=np.byte) #Net pieces layer will be between -103 and 103 while the other layers will be -1, 0, or 1\n",
        "        self.policyList=np.zeros((size,len(moveList)), dtype=np.float32)\n",
        "        self.valueList=np.zeros((size,1), dtype=np.byte)\n",
        "\n",
        "    def add(self, board: np.ndarray , policy: np.ndarray, value: int):\n",
        "        assert type(board)==np.ndarray, \"board must be a numpy array\"\n",
        "        assert board.shape==(1,8,8,20) or board.shape==(8,8,20), \"board must be of shape (1,8,8,20) or (8,8,20)\"\n",
        "        assert policy.shape==(1,len(moveList)) or policy.shape==(len(moveList),), \"policy must be of shape (1,len(moveList)) or (len(moveList),)\"\n",
        "        assert type(value)==int, \"value must be an integer\"\n",
        "        self.boardList[self.length]=board\n",
        "        self.policyList[self.length]=policy\n",
        "        self.valueList[self.length]=value\n",
        "        if self.length<self.size-1:\n",
        "            self.length+=1\n",
        "        else:\n",
        "            self.length=0\n",
        "        if self.entries<self.size:\n",
        "            self.entries+=1\n",
        "\n",
        "    def remove(self, num: int):\n",
        "        assert type(num)==int, \"num must be an integer\"\n",
        "\n",
        "        if self.entries >= num:\n",
        "            self.entries-=num\n",
        "            if self.length+num<=self.size:\n",
        "                self.boardList[self.length:self.length+num]=0\n",
        "                self.policyList[self.length:self.length+num]=0\n",
        "                self.valueList[self.length:self.length+num]=0\n",
        "\n",
        "            else:\n",
        "                self.boardList[self.length:]=0\n",
        "                self.policyList[self.length:]=0\n",
        "                self.valueList[self.length:]=0\n",
        "                self.boardList[:(self.length+num-self.size)]=0\n",
        "                self.policyList[:(self.length+num-self.size)]=0\n",
        "                self.valueList[:(self.length+num-self.size)]=0\n",
        "\n",
        "\n",
        "        else:\n",
        "            self.entries=0\n",
        "            self.boardList=np.zeros((self.size,8,8,20), dtype=np.byte)\n",
        "            self.policyList=np.zeros((self.size,len(moveList)), dtype=np.float32)\n",
        "            self.valueList=np.zeros((self.size,1), dtype=np.float32)\n",
        "\n",
        "\n",
        "    def batch(self, batchsize):\n",
        "        assert type(batchsize)==int, \"batchsize must be an integer\"\n",
        "        if batchsize > self.entries:\n",
        "            batchsize=self.entries\n",
        "        indices=np.random.choice(self.length-self.entries+np.arange(self.entries), batchsize, replace=False)\n",
        "        return self.boardList[indices], self.policyList[indices], self.valueList[indices]\n",
        "\n",
        "    def __len__(self):\n",
        "        return self.entries\n",
        "\n",
        "    def __getitem__(self, index):\n",
        "        return self.boardList[index], self.policyList[index], self.valueList[index]\n",
        "\n",
        "    def __setitem__(self, index, value):\n",
        "        self.boardList[index]=value[0]\n",
        "        self.policyList[index]=value[1]\n",
        "        self.valueList[index]=value[2]\n",
        "\n",
        "    def __delitem__(self, index):\n",
        "        self.boardList[index]=0\n",
        "        self.policyList[index]=0\n",
        "        self.valueList[index]=0\n",
        "\n",
        "    def __repr__(self):\n",
        "        return f\"replayBuffer(size={self.size}, entries={self.entries}, length={self.length})\""
      ],
      "metadata": {
        "id": "8G_cYqaQ7WJZ"
      },
      "execution_count": 101,
      "outputs": []
    },
    {
      "cell_type": "code",
      "source": [
        "def maskedSoftMax(p: tf.Tensor,board: chess.Board)-> tf.Tensor:\n",
        "    pass"
      ],
      "metadata": {
        "id": "-T7IPg1hbgTE"
      },
      "execution_count": null,
      "outputs": []
    },
    {
      "cell_type": "code",
      "source": [
        "# Unit tests for replayBuffer\n",
        "\n",
        "model=dualHeadedResNet(3, activation=\"relu\", factor=2, initialFilters=64, denseLatent=2048)\n",
        "size=12\n",
        "buffer=replayBuffer(size)\n",
        "board=chess.Board()\n",
        "for i in range(50):\n",
        "    np.random.seed(i)\n",
        "    board.push(np.random.choice((*board.legal_moves,)))\n",
        "    input=boardToInput(board)\n",
        "    policy=model(input)[0][0]\n",
        "    print(type(policy))\n",
        "    value=model(input)[1][0]\n",
        "    buffer.add(input, policy, 1)\n",
        "    assert len(buffer)==min(i+1,size)\n",
        "\n",
        "buffer.remove(2)\n",
        "assert len(buffer)==min(i+1,size)-2\n",
        "\n",
        "batch=buffer.batch(6)\n",
        "assert batch[0].shape==(6,8,8,20)\n",
        "assert batch[1].shape==(6,len(moveList))\n",
        "assert batch[2].shape==(6,1)\n",
        "\n",
        "batch=buffer.batch(size+10)\n",
        "assert batch[0].shape==(size-2,8,8,20)\n",
        "assert batch[1].shape==(size-2,len(moveList))\n",
        "assert batch[2].shape==(size-2,1)\n",
        "\n",
        "assert buffer[0][0].shape==(8,8,20)\n",
        "assert buffer[0][1].shape==(len(moveList),)\n",
        "assert type(buffer[0][2][0])==np.byte\n",
        "\n",
        "del buffer[0]\n",
        "assert buffer[0][0].shape==(8,8,20)\n",
        "assert buffer[0][1].shape==(len(moveList),)\n",
        "assert type(buffer[0][2][0])==np.byte\n",
        "assert buffer[0][0][0,0,0]==0\n",
        "assert buffer[0][1][0]==0\n",
        "assert buffer[0][2][0]==0\n",
        "\n",
        "buffer[0]=(boardToInput(board), policy, 1)\n",
        "assert buffer[0][0].shape==(8,8,20)\n",
        "assert buffer[0][1].shape==(len(moveList),)\n",
        "assert type(buffer[0][2][0])==np.byte"
      ],
      "metadata": {
        "colab": {
          "base_uri": "https://localhost:8080/"
        },
        "id": "UVCn3WLtS31c",
        "outputId": "46cfde88-e35f-490f-b58a-4e0fdc1666a9"
      },
      "execution_count": 126,
      "outputs": [
        {
          "output_type": "stream",
          "name": "stdout",
          "text": [
            "<class 'tensorflow.python.framework.ops.EagerTensor'>\n",
            "<class 'tensorflow.python.framework.ops.EagerTensor'>\n",
            "<class 'tensorflow.python.framework.ops.EagerTensor'>\n",
            "<class 'tensorflow.python.framework.ops.EagerTensor'>\n",
            "<class 'tensorflow.python.framework.ops.EagerTensor'>\n",
            "<class 'tensorflow.python.framework.ops.EagerTensor'>\n",
            "<class 'tensorflow.python.framework.ops.EagerTensor'>\n",
            "<class 'tensorflow.python.framework.ops.EagerTensor'>\n",
            "<class 'tensorflow.python.framework.ops.EagerTensor'>\n",
            "<class 'tensorflow.python.framework.ops.EagerTensor'>\n",
            "<class 'tensorflow.python.framework.ops.EagerTensor'>\n",
            "<class 'tensorflow.python.framework.ops.EagerTensor'>\n",
            "<class 'tensorflow.python.framework.ops.EagerTensor'>\n",
            "<class 'tensorflow.python.framework.ops.EagerTensor'>\n",
            "<class 'tensorflow.python.framework.ops.EagerTensor'>\n",
            "<class 'tensorflow.python.framework.ops.EagerTensor'>\n",
            "<class 'tensorflow.python.framework.ops.EagerTensor'>\n",
            "<class 'tensorflow.python.framework.ops.EagerTensor'>\n",
            "<class 'tensorflow.python.framework.ops.EagerTensor'>\n",
            "<class 'tensorflow.python.framework.ops.EagerTensor'>\n",
            "<class 'tensorflow.python.framework.ops.EagerTensor'>\n",
            "<class 'tensorflow.python.framework.ops.EagerTensor'>\n",
            "<class 'tensorflow.python.framework.ops.EagerTensor'>\n",
            "<class 'tensorflow.python.framework.ops.EagerTensor'>\n",
            "<class 'tensorflow.python.framework.ops.EagerTensor'>\n",
            "<class 'tensorflow.python.framework.ops.EagerTensor'>\n",
            "<class 'tensorflow.python.framework.ops.EagerTensor'>\n",
            "<class 'tensorflow.python.framework.ops.EagerTensor'>\n",
            "<class 'tensorflow.python.framework.ops.EagerTensor'>\n",
            "<class 'tensorflow.python.framework.ops.EagerTensor'>\n",
            "<class 'tensorflow.python.framework.ops.EagerTensor'>\n",
            "<class 'tensorflow.python.framework.ops.EagerTensor'>\n",
            "<class 'tensorflow.python.framework.ops.EagerTensor'>\n",
            "<class 'tensorflow.python.framework.ops.EagerTensor'>\n",
            "<class 'tensorflow.python.framework.ops.EagerTensor'>\n",
            "<class 'tensorflow.python.framework.ops.EagerTensor'>\n",
            "<class 'tensorflow.python.framework.ops.EagerTensor'>\n",
            "<class 'tensorflow.python.framework.ops.EagerTensor'>\n",
            "<class 'tensorflow.python.framework.ops.EagerTensor'>\n",
            "<class 'tensorflow.python.framework.ops.EagerTensor'>\n",
            "<class 'tensorflow.python.framework.ops.EagerTensor'>\n",
            "<class 'tensorflow.python.framework.ops.EagerTensor'>\n",
            "<class 'tensorflow.python.framework.ops.EagerTensor'>\n",
            "<class 'tensorflow.python.framework.ops.EagerTensor'>\n",
            "<class 'tensorflow.python.framework.ops.EagerTensor'>\n",
            "<class 'tensorflow.python.framework.ops.EagerTensor'>\n",
            "<class 'tensorflow.python.framework.ops.EagerTensor'>\n",
            "<class 'tensorflow.python.framework.ops.EagerTensor'>\n",
            "<class 'tensorflow.python.framework.ops.EagerTensor'>\n",
            "<class 'tensorflow.python.framework.ops.EagerTensor'>\n"
          ]
        }
      ]
    },
    {
      "cell_type": "code",
      "source": [],
      "metadata": {
        "id": "BznTYI_xfXO3"
      },
      "execution_count": null,
      "outputs": []
    }
  ]
}